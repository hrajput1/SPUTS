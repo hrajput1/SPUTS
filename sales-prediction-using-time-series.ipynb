{
 "cells": [
  {
   "cell_type": "markdown",
   "id": "18253567",
   "metadata": {
    "papermill": {
     "duration": 0.009062,
     "end_time": "2022-08-27T22:20:59.969855",
     "exception": false,
     "start_time": "2022-08-27T22:20:59.960793",
     "status": "completed"
    },
    "tags": []
   },
   "source": [
    "* Author: Hardik Rajput\n",
    "\n",
    "* Date: 7/02/2022\n",
    "\n",
    "* Project Name: Sales Prediction using Time Series : ARIMA"
   ]
  },
  {
   "cell_type": "markdown",
   "id": "7209321c",
   "metadata": {
    "papermill": {
     "duration": 0.007106,
     "end_time": "2022-08-27T22:20:59.984753",
     "exception": false,
     "start_time": "2022-08-27T22:20:59.977647",
     "status": "completed"
    },
    "tags": []
   },
   "source": [
    "# Sales Prediction using Time Series : ARIMA(AutoRegressive Integrated Moving Average)¶\n",
    "\n",
    "In this project I will work with a challenging time-series dataset consisting of daily sales data, kindly provided by one of the largest Russian software firms - 1C Company.\n",
    "\n",
    "I have to predict total sales for every product and store in the next month."
   ]
  },
  {
   "cell_type": "markdown",
   "id": "ed7582e9",
   "metadata": {
    "execution": {
     "iopub.execute_input": "2022-08-27T22:10:58.209686Z",
     "iopub.status.busy": "2022-08-27T22:10:58.209266Z",
     "iopub.status.idle": "2022-08-27T22:10:58.222361Z",
     "shell.execute_reply": "2022-08-27T22:10:58.220664Z",
     "shell.execute_reply.started": "2022-08-27T22:10:58.209650Z"
    },
    "papermill": {
     "duration": 0.00712,
     "end_time": "2022-08-27T22:21:00.000241",
     "exception": false,
     "start_time": "2022-08-27T22:20:59.993121",
     "status": "completed"
    },
    "tags": []
   },
   "source": [
    "# Data Description\n",
    "\n",
    "I have daily historical sales data. The task is to forecast the total amount of products sold in every shop for the test set. Note that the list of shops and products slightly changes every month. I have to create a robust model that can handle such situations.\n",
    "\n",
    "\n",
    "## File descriptions\n",
    "* sales_train.csv - the training set. Daily historical data from January 2013 to October 2015.\n",
    "* test.csv - the test set. You need to forecast the sales for these shops and products for November 2015.\n",
    "* sample_submission.csv - a sample submission file in the correct format.\n",
    "* items.csv - supplemental information about the items/products.\n",
    "* item_categories.csv  - supplemental information about the items categories.\n",
    "* shops.csv- supplemental information about the shops.\n",
    "\n",
    "\n",
    "## Data fields\n",
    "* ID - an Id that represents a (Shop, Item) tuple within the test set\n",
    "* shop_id - unique identifier of a shop\n",
    "* item_id - unique identifier of a product\n",
    "* item_category_id - unique identifier of item category\n",
    "* item_cnt_day - number of products sold. You are predicting a monthly amount of this measure\n",
    "* item_price - current price of an item\n",
    "* date - date in format dd/mm/yyyy\n",
    "* date_block_num - a consecutive month number, used for convenience. January 2013 is 0, February 2013 is 1,..., October 2015 is 33\n",
    "* item_name - name of item\n",
    "* shop_name - name of shop\n",
    "* item_category_name - name of item category"
   ]
  },
  {
   "cell_type": "markdown",
   "id": "9f6973a3",
   "metadata": {
    "papermill": {
     "duration": 0.0075,
     "end_time": "2022-08-27T22:21:00.015775",
     "exception": false,
     "start_time": "2022-08-27T22:21:00.008275",
     "status": "completed"
    },
    "tags": []
   },
   "source": [
    "* Install **pmdarima** statistical library: Pmdarima (pyramid-arima) is a statistical library designed to fill the void in Python's time series analysis capabilities. pmdarima is essentially a Python & Cython wrapper of several different statistical and machine learning libraries (statsmodels and scikit-learn), and operates by generalizing all ARIMA models into a single class (unlike statsmodels).\n",
    "\n",
    "* Import **statsmodels**: This model is the basic interface for ARIMA-type models, including those with exogenous regressors and those with seasonal components. It provides classes and functions for the estimation of many different statistical models, as well as for conducting statistical tests, and statistical data exploration. An extensive list of result statistics are available for each estimator. The results are tested against existing statistical packages to ensure that they are correct. \n",
    "\n",
    "* Import libarary such as pandas, numpy matplotlib"
   ]
  },
  {
   "cell_type": "code",
   "execution_count": 9,
   "id": "96118898",
   "metadata": {
    "execution": {
     "iopub.execute_input": "2022-08-27T22:21:00.034220Z",
     "iopub.status.busy": "2022-08-27T22:21:00.033299Z",
     "iopub.status.idle": "2022-08-27T22:21:14.581693Z",
     "shell.execute_reply": "2022-08-27T22:21:14.580248Z"
    },
    "papermill": {
     "duration": 14.561397,
     "end_time": "2022-08-27T22:21:14.584844",
     "exception": false,
     "start_time": "2022-08-27T22:21:00.023447",
     "status": "completed"
    },
    "tags": []
   },
   "outputs": [
    {
     "name": "stdout",
     "output_type": "stream",
     "text": [
      "Requirement already satisfied: pmdarima in h:\\software\\anaconda3\\lib\\site-packages (2.0.1)\n",
      "Requirement already satisfied: scipy>=1.3.2 in h:\\software\\anaconda3\\lib\\site-packages (from pmdarima) (1.7.3)\n",
      "Requirement already satisfied: joblib>=0.11 in h:\\software\\anaconda3\\lib\\site-packages (from pmdarima) (1.1.0)\n",
      "Requirement already satisfied: pandas>=0.19 in h:\\software\\anaconda3\\lib\\site-packages (from pmdarima) (1.4.2)\n",
      "Requirement already satisfied: scikit-learn>=0.22 in h:\\software\\anaconda3\\lib\\site-packages (from pmdarima) (1.0.2)\n",
      "Requirement already satisfied: urllib3 in h:\\software\\anaconda3\\lib\\site-packages (from pmdarima) (1.26.9)\n",
      "Requirement already satisfied: setuptools!=50.0.0,>=38.6.0 in h:\\software\\anaconda3\\lib\\site-packages (from pmdarima) (61.2.0)\n",
      "Requirement already satisfied: numpy>=1.21 in h:\\software\\anaconda3\\lib\\site-packages (from pmdarima) (1.21.5)\n",
      "Requirement already satisfied: Cython!=0.29.18,!=0.29.31,>=0.29 in h:\\software\\anaconda3\\lib\\site-packages (from pmdarima) (0.29.28)\n",
      "Requirement already satisfied: statsmodels>=0.13.2 in h:\\software\\anaconda3\\lib\\site-packages (from pmdarima) (0.13.2)\n",
      "Requirement already satisfied: python-dateutil>=2.8.1 in h:\\software\\anaconda3\\lib\\site-packages (from pandas>=0.19->pmdarima) (2.8.2)\n",
      "Requirement already satisfied: pytz>=2020.1 in h:\\software\\anaconda3\\lib\\site-packages (from pandas>=0.19->pmdarima) (2021.3)\n",
      "Requirement already satisfied: six>=1.5 in h:\\software\\anaconda3\\lib\\site-packages (from python-dateutil>=2.8.1->pandas>=0.19->pmdarima) (1.16.0)\n",
      "Requirement already satisfied: threadpoolctl>=2.0.0 in h:\\software\\anaconda3\\lib\\site-packages (from scikit-learn>=0.22->pmdarima) (2.2.0)\n",
      "Requirement already satisfied: patsy>=0.5.2 in h:\\software\\anaconda3\\lib\\site-packages (from statsmodels>=0.13.2->pmdarima) (0.5.2)\n",
      "Requirement already satisfied: packaging>=21.3 in h:\\software\\anaconda3\\lib\\site-packages (from statsmodels>=0.13.2->pmdarima) (21.3)\n",
      "Requirement already satisfied: pyparsing!=3.0.5,>=2.0.2 in h:\\software\\anaconda3\\lib\\site-packages (from packaging>=21.3->statsmodels>=0.13.2->pmdarima) (3.0.4)\n"
     ]
    }
   ],
   "source": [
    "!pip install pmdarima"
   ]
  },
  {
   "cell_type": "code",
   "execution_count": 10,
   "id": "b2019bb6",
   "metadata": {
    "execution": {
     "iopub.execute_input": "2022-08-27T22:21:14.605239Z",
     "iopub.status.busy": "2022-08-27T22:21:14.603977Z",
     "iopub.status.idle": "2022-08-27T22:21:16.924712Z",
     "shell.execute_reply": "2022-08-27T22:21:16.923234Z"
    },
    "papermill": {
     "duration": 2.334382,
     "end_time": "2022-08-27T22:21:16.928145",
     "exception": false,
     "start_time": "2022-08-27T22:21:14.593763",
     "status": "completed"
    },
    "tags": []
   },
   "outputs": [],
   "source": [
    "import pandas as pd\n",
    "import numpy as np\n",
    "import datetime\n",
    "import matplotlib.pyplot as plt\n",
    "\n",
    "from statsmodels.graphics.tsaplots import plot_acf, plot_pacf\n",
    "from statsmodels.tsa.seasonal import seasonal_decompose\n",
    "from statsmodels.tsa.stattools import adfuller\n",
    "\n",
    "from pmdarima.arima import auto_arima"
   ]
  },
  {
   "cell_type": "code",
   "execution_count": 11,
   "id": "2a8d0056",
   "metadata": {
    "execution": {
     "iopub.execute_input": "2022-08-27T22:21:16.947784Z",
     "iopub.status.busy": "2022-08-27T22:21:16.947301Z",
     "iopub.status.idle": "2022-08-27T22:21:19.675910Z",
     "shell.execute_reply": "2022-08-27T22:21:19.674279Z"
    },
    "papermill": {
     "duration": 2.74192,
     "end_time": "2022-08-27T22:21:19.678955",
     "exception": false,
     "start_time": "2022-08-27T22:21:16.937035",
     "status": "completed"
    },
    "tags": []
   },
   "outputs": [
    {
     "data": {
      "text/plain": [
       "((2935849, 6), (214200, 3))"
      ]
     },
     "execution_count": 11,
     "metadata": {},
     "output_type": "execute_result"
    }
   ],
   "source": [
    "df_train = pd.read_csv('sales_train.csv')\n",
    "df_test = pd.read_csv('test.csv')\n",
    "\n",
    "df_train.shape, df_test.shape"
   ]
  },
  {
   "cell_type": "code",
   "execution_count": 12,
   "id": "8a9cfd9d",
   "metadata": {
    "execution": {
     "iopub.execute_input": "2022-08-27T22:21:19.698841Z",
     "iopub.status.busy": "2022-08-27T22:21:19.698370Z",
     "iopub.status.idle": "2022-08-27T22:21:19.708480Z",
     "shell.execute_reply": "2022-08-27T22:21:19.707065Z"
    },
    "papermill": {
     "duration": 0.023403,
     "end_time": "2022-08-27T22:21:19.711179",
     "exception": false,
     "start_time": "2022-08-27T22:21:19.687776",
     "status": "completed"
    },
    "tags": []
   },
   "outputs": [
    {
     "data": {
      "text/plain": [
       "(date               object\n",
       " date_block_num      int64\n",
       " shop_id             int64\n",
       " item_id             int64\n",
       " item_price        float64\n",
       " item_cnt_day      float64\n",
       " dtype: object,\n",
       " Index(['ID', 'shop_id', 'item_id'], dtype='object'))"
      ]
     },
     "execution_count": 12,
     "metadata": {},
     "output_type": "execute_result"
    }
   ],
   "source": [
    "df_train.dtypes, df_test.columns"
   ]
  },
  {
   "cell_type": "code",
   "execution_count": null,
   "id": "bc514348",
   "metadata": {
    "execution": {
     "iopub.execute_input": "2022-08-27T22:21:19.732113Z",
     "iopub.status.busy": "2022-08-27T22:21:19.731255Z",
     "iopub.status.idle": "2022-08-27T22:21:47.623607Z",
     "shell.execute_reply": "2022-08-27T22:21:47.622632Z"
    },
    "papermill": {
     "duration": 27.906061,
     "end_time": "2022-08-27T22:21:47.626373",
     "exception": false,
     "start_time": "2022-08-27T22:21:19.720312",
     "status": "completed"
    },
    "tags": []
   },
   "outputs": [],
   "source": [
    "#To datetime datatype\n",
    "df_train['date'] = df_train['date'].apply(lambda x:datetime.datetime.strptime(x, '%d.%m.%Y'))"
   ]
  },
  {
   "cell_type": "code",
   "execution_count": null,
   "id": "638e7a2a",
   "metadata": {
    "execution": {
     "iopub.execute_input": "2022-08-27T22:21:47.646507Z",
     "iopub.status.busy": "2022-08-27T22:21:47.645582Z",
     "iopub.status.idle": "2022-08-27T22:22:02.874533Z",
     "shell.execute_reply": "2022-08-27T22:22:02.873322Z"
    },
    "papermill": {
     "duration": 15.241229,
     "end_time": "2022-08-27T22:22:02.877221",
     "exception": false,
     "start_time": "2022-08-27T22:21:47.635992",
     "status": "completed"
    },
    "tags": []
   },
   "outputs": [],
   "source": [
    "df_train['month'] = df_train['date'].dt.to_period('M')\n",
    "df_train['month'] = df_train['month'].astype(str)\n",
    "df_train['month'] = pd.to_datetime(df_train['month'])\n",
    "df_train.dtypes"
   ]
  },
  {
   "cell_type": "code",
   "execution_count": 16,
   "id": "8f404a00",
   "metadata": {
    "execution": {
     "iopub.execute_input": "2022-08-27T22:22:02.898066Z",
     "iopub.status.busy": "2022-08-27T22:22:02.897355Z",
     "iopub.status.idle": "2022-08-27T22:22:02.970740Z",
     "shell.execute_reply": "2022-08-27T22:22:02.969396Z"
    },
    "papermill": {
     "duration": 0.086784,
     "end_time": "2022-08-27T22:22:02.973790",
     "exception": false,
     "start_time": "2022-08-27T22:22:02.887006",
     "status": "completed"
    },
    "tags": []
   },
   "outputs": [
    {
     "name": "stdout",
     "output_type": "stream",
     "text": [
      "(34, 2) Index(['item_cnt_month', 'month'], dtype='object')\n"
     ]
    }
   ],
   "source": [
    "dff_train = df_train.groupby(['month']).agg({'item_cnt_day':'sum'})\n",
    "dff_train['month'] = dff_train.index\n",
    "dff_train.rename(columns = {'item_cnt_day':'item_cnt_month'}, inplace = True)\n",
    "print(dff_train.shape, dff_train.columns)"
   ]
  },
  {
   "cell_type": "code",
   "execution_count": 17,
   "id": "3d6329e7",
   "metadata": {
    "execution": {
     "iopub.execute_input": "2022-08-27T22:22:02.993500Z",
     "iopub.status.busy": "2022-08-27T22:22:02.992754Z",
     "iopub.status.idle": "2022-08-27T22:22:03.003484Z",
     "shell.execute_reply": "2022-08-27T22:22:03.002197Z"
    },
    "papermill": {
     "duration": 0.023718,
     "end_time": "2022-08-27T22:22:03.005986",
     "exception": false,
     "start_time": "2022-08-27T22:22:02.982268",
     "status": "completed"
    },
    "tags": []
   },
   "outputs": [
    {
     "data": {
      "text/plain": [
       "34"
      ]
     },
     "execution_count": 17,
     "metadata": {},
     "output_type": "execute_result"
    }
   ],
   "source": [
    "#dff_train.head(10)\n",
    "len(dff_train.drop(['month'], axis = 1))"
   ]
  },
  {
   "cell_type": "code",
   "execution_count": 18,
   "id": "6f2e8273",
   "metadata": {
    "execution": {
     "iopub.execute_input": "2022-08-27T22:22:03.025261Z",
     "iopub.status.busy": "2022-08-27T22:22:03.024837Z",
     "iopub.status.idle": "2022-08-27T22:22:03.324166Z",
     "shell.execute_reply": "2022-08-27T22:22:03.323015Z"
    },
    "papermill": {
     "duration": 0.312075,
     "end_time": "2022-08-27T22:22:03.326808",
     "exception": false,
     "start_time": "2022-08-27T22:22:03.014733",
     "status": "completed"
    },
    "tags": []
   },
   "outputs": [
    {
     "data": {
      "image/png": "[encoded data removed]",
      "text/plain": [
       "<Figure size 648x432 with 1 Axes>"
      ]
     },
     "metadata": {
      "needs_background": "light"
     },
     "output_type": "display_data"
    }
   ],
   "source": [
    "plt.figure(figsize = (9, 6))\n",
    "plt.grid()\n",
    "plt.plot(dff_train['item_cnt_month'])\n",
    "plt.title('Monthly Sales of items')\n",
    "plt.xlabel('Time')\n",
    "plt.ylabel('Sales count')\n",
    "plt.show()"
   ]
  },
  {
   "cell_type": "code",
   "execution_count": 19,
   "id": "abaef9d4",
   "metadata": {
    "execution": {
     "iopub.execute_input": "2022-08-27T22:22:03.347567Z",
     "iopub.status.busy": "2022-08-27T22:22:03.346831Z",
     "iopub.status.idle": "2022-08-27T22:22:03.584233Z",
     "shell.execute_reply": "2022-08-27T22:22:03.583082Z"
    },
    "papermill": {
     "duration": 0.250539,
     "end_time": "2022-08-27T22:22:03.586928",
     "exception": false,
     "start_time": "2022-08-27T22:22:03.336389",
     "status": "completed"
    },
    "tags": []
   },
   "outputs": [
    {
     "name": "stdout",
     "output_type": "stream",
     "text": [
      "Autocorrelation = 0.6636\n"
     ]
    },
    {
     "data": {
      "image/png": "[encoded data removed]",
      "text/plain": [
       "<Figure size 432x288 with 1 Axes>"
      ]
     },
     "metadata": {
      "needs_background": "light"
     },
     "output_type": "display_data"
    }
   ],
   "source": [
    "pd.plotting.autocorrelation_plot(dff_train['item_cnt_month'])\n",
    "print('Autocorrelation =', round(dff_train['item_cnt_month'].autocorr(), 4))"
   ]
  },
  {
   "cell_type": "code",
   "execution_count": 20,
   "id": "1bb271cc",
   "metadata": {
    "execution": {
     "iopub.execute_input": "2022-08-27T22:22:03.608147Z",
     "iopub.status.busy": "2022-08-27T22:22:03.607715Z",
     "iopub.status.idle": "2022-08-27T22:22:04.060733Z",
     "shell.execute_reply": "2022-08-27T22:22:04.059240Z"
    },
    "papermill": {
     "duration": 0.466544,
     "end_time": "2022-08-27T22:22:04.063210",
     "exception": false,
     "start_time": "2022-08-27T22:22:03.596666",
     "status": "completed"
    },
    "tags": []
   },
   "outputs": [
    {
     "name": "stderr",
     "output_type": "stream",
     "text": [
      "H:\\Software\\Anaconda3\\lib\\site-packages\\statsmodels\\graphics\\tsaplots.py:348: FutureWarning: The default method 'yw' can produce PACF values outside of the [-1,1] interval. After 0.13, the default will change tounadjusted Yule-Walker ('ywm'). You can use this method now by setting method='ywm'.\n",
      "  warnings.warn(\n"
     ]
    },
    {
     "data": {
      "image/png": "[encoded data removed]",
      "text/plain": [
       "<Figure size 432x288 with 1 Axes>"
      ]
     },
     "metadata": {
      "needs_background": "light"
     },
     "output_type": "display_data"
    },
    {
     "data": {
      "image/png": "[encoded data removed]",
      "text/plain": [
       "<Figure size 432x288 with 1 Axes>"
      ]
     },
     "metadata": {
      "needs_background": "light"
     },
     "output_type": "display_data"
    }
   ],
   "source": [
    "plot_acf(dff_train['item_cnt_month'])\n",
    "plt.grid()\n",
    "plot_pacf(dff_train['item_cnt_month'])\n",
    "plt.grid()\n",
    "plt.show()"
   ]
  },
  {
   "cell_type": "code",
   "execution_count": 21,
   "id": "53efd48b",
   "metadata": {
    "execution": {
     "iopub.execute_input": "2022-08-27T22:22:04.086642Z",
     "iopub.status.busy": "2022-08-27T22:22:04.085876Z",
     "iopub.status.idle": "2022-08-27T22:22:04.791262Z",
     "shell.execute_reply": "2022-08-27T22:22:04.790067Z"
    },
    "papermill": {
     "duration": 0.720523,
     "end_time": "2022-08-27T22:22:04.794153",
     "exception": false,
     "start_time": "2022-08-27T22:22:04.073630",
     "status": "completed"
    },
    "tags": []
   },
   "outputs": [
    {
     "data": {
      "image/png": "[encoded data removed]",
      "text/plain": [
       "<Figure size 720x576 with 4 Axes>"
      ]
     },
     "metadata": {
      "needs_background": "light"
     },
     "output_type": "display_data"
    }
   ],
   "source": [
    "seasonal_decompose(dff_train['item_cnt_month'], model = 'additive').plot().set_size_inches(10, 8)"
   ]
  },
  {
   "cell_type": "code",
   "execution_count": 22,
   "id": "ca445c83",
   "metadata": {
    "execution": {
     "iopub.execute_input": "2022-08-27T22:22:04.818550Z",
     "iopub.status.busy": "2022-08-27T22:22:04.817536Z",
     "iopub.status.idle": "2022-08-27T22:22:05.679092Z",
     "shell.execute_reply": "2022-08-27T22:22:05.677935Z"
    },
    "papermill": {
     "duration": 0.876942,
     "end_time": "2022-08-27T22:22:05.682145",
     "exception": false,
     "start_time": "2022-08-27T22:22:04.805203",
     "status": "completed"
    },
    "tags": []
   },
   "outputs": [
    {
     "data": {
      "image/png": "[encoded data removed]",
      "text/plain": [
       "<Figure size 720x576 with 4 Axes>"
      ]
     },
     "metadata": {
      "needs_background": "light"
     },
     "output_type": "display_data"
    }
   ],
   "source": [
    "seasonal_decompose(dff_train['item_cnt_month'], model = 'multiplicative').plot().set_size_inches(10, 8)"
   ]
  },
  {
   "cell_type": "code",
   "execution_count": 23,
   "id": "a3b05064",
   "metadata": {
    "execution": {
     "iopub.execute_input": "2022-08-27T22:22:05.708039Z",
     "iopub.status.busy": "2022-08-27T22:22:05.707611Z",
     "iopub.status.idle": "2022-08-27T22:22:05.714085Z",
     "shell.execute_reply": "2022-08-27T22:22:05.713015Z"
    },
    "papermill": {
     "duration": 0.022102,
     "end_time": "2022-08-27T22:22:05.716424",
     "exception": false,
     "start_time": "2022-08-27T22:22:05.694322",
     "status": "completed"
    },
    "tags": []
   },
   "outputs": [],
   "source": [
    "#Stationarity test: Two tests for checking the stationarity of a time series are used, namely the ADF test and the KPSS test.\n",
    "def adf_test(dataseries):\n",
    "    adf = adfuller(dataseries)\n",
    "    output = pd.Series(adf[0:3], index = ['ADF Statistic', 'p-value', 'Lags'])\n",
    "    for key, value in adf[4].items():\n",
    "        output[\"Critical Value (%s)\" %key] = value\n",
    "    \n",
    "    return print(output)"
   ]
  },
  {
   "cell_type": "code",
   "execution_count": 24,
   "id": "66db2bcb",
   "metadata": {
    "execution": {
     "iopub.execute_input": "2022-08-27T22:22:05.741332Z",
     "iopub.status.busy": "2022-08-27T22:22:05.740881Z",
     "iopub.status.idle": "2022-08-27T22:22:05.768593Z",
     "shell.execute_reply": "2022-08-27T22:22:05.767192Z"
    },
    "papermill": {
     "duration": 0.044483,
     "end_time": "2022-08-27T22:22:05.772529",
     "exception": false,
     "start_time": "2022-08-27T22:22:05.728046",
     "status": "completed"
    },
    "tags": []
   },
   "outputs": [
    {
     "name": "stdout",
     "output_type": "stream",
     "text": [
      "ADF Statistic          -2.395704\n",
      "p-value                 0.142953\n",
      "Lags                    0.000000\n",
      "Critical Value (1%)    -3.646135\n",
      "Critical Value (5%)    -2.954127\n",
      "Critical Value (10%)   -2.615968\n",
      "dtype: float64\n"
     ]
    }
   ],
   "source": [
    "adf_test(dff_train['item_cnt_month'])"
   ]
  },
  {
   "cell_type": "code",
   "execution_count": 25,
   "id": "c5511981",
   "metadata": {
    "execution": {
     "iopub.execute_input": "2022-08-27T22:22:05.799703Z",
     "iopub.status.busy": "2022-08-27T22:22:05.798705Z",
     "iopub.status.idle": "2022-08-27T22:22:05.804901Z",
     "shell.execute_reply": "2022-08-27T22:22:05.804009Z"
    },
    "papermill": {
     "duration": 0.022229,
     "end_time": "2022-08-27T22:22:05.807152",
     "exception": false,
     "start_time": "2022-08-27T22:22:05.784923",
     "status": "completed"
    },
    "tags": []
   },
   "outputs": [],
   "source": [
    "#Grid search for parameters\n",
    "def order_parameters(training_data):\n",
    "    \n",
    "    search_params = auto_arima(training_data, start_p = 0, start_q = 0, m = 12, seasonal = True, test = \"adf\", d = None, trace = True, alpha = 0.05, information_criterion = 'aic', suppress_warnings = True, \n",
    "                    stepwise = True)\n",
    " \n",
    "    print(\"AIC = \", round(search_params.aic(), 2))\n",
    "                  \n",
    "    return search_params"
   ]
  },
  {
   "cell_type": "code",
   "execution_count": 26,
   "id": "1b0ef5c8",
   "metadata": {
    "execution": {
     "iopub.execute_input": "2022-08-27T22:22:05.834435Z",
     "iopub.status.busy": "2022-08-27T22:22:05.833540Z",
     "iopub.status.idle": "2022-08-27T22:22:11.072275Z",
     "shell.execute_reply": "2022-08-27T22:22:11.070670Z"
    },
    "papermill": {
     "duration": 5.257205,
     "end_time": "2022-08-27T22:22:11.076943",
     "exception": false,
     "start_time": "2022-08-27T22:22:05.819738",
     "status": "completed"
    },
    "tags": []
   },
   "outputs": [
    {
     "name": "stdout",
     "output_type": "stream",
     "text": [
      "Performing stepwise search to minimize aic\n",
      " ARIMA(0,2,0)(1,1,1)[12]             : AIC=448.765, Time=0.24 sec\n",
      " ARIMA(0,2,0)(0,1,0)[12]             : AIC=451.736, Time=0.03 sec\n",
      " ARIMA(1,2,0)(1,1,0)[12]             : AIC=449.440, Time=0.07 sec\n",
      " ARIMA(0,2,1)(0,1,1)[12]             : AIC=438.095, Time=0.10 sec\n",
      " ARIMA(0,2,1)(0,1,0)[12]             : AIC=inf, Time=0.07 sec\n",
      " ARIMA(0,2,1)(1,1,1)[12]             : AIC=439.392, Time=0.16 sec\n",
      " ARIMA(0,2,1)(0,1,2)[12]             : AIC=inf, Time=0.55 sec\n",
      " ARIMA(0,2,1)(1,1,0)[12]             : AIC=438.173, Time=0.10 sec\n",
      " ARIMA(0,2,1)(1,1,2)[12]             : AIC=440.703, Time=0.28 sec\n",
      " ARIMA(0,2,0)(0,1,1)[12]             : AIC=448.622, Time=0.04 sec\n",
      " ARIMA(1,2,1)(0,1,1)[12]             : AIC=inf, Time=0.14 sec\n",
      " ARIMA(0,2,2)(0,1,1)[12]             : AIC=451.418, Time=0.11 sec\n",
      " ARIMA(1,2,0)(0,1,1)[12]             : AIC=449.122, Time=0.06 sec\n",
      " ARIMA(1,2,2)(0,1,1)[12]             : AIC=inf, Time=0.38 sec\n",
      " ARIMA(0,2,1)(0,1,1)[12] intercept   : AIC=439.246, Time=0.40 sec\n",
      "\n",
      "Best model:  ARIMA(0,2,1)(0,1,1)[12]          \n",
      "Total fit time: 2.779 seconds\n",
      "AIC =  438.1\n"
     ]
    }
   ],
   "source": [
    "model = order_parameters(dff_train['item_cnt_month'])"
   ]
  },
  {
   "cell_type": "code",
   "execution_count": 27,
   "id": "23b4497c",
   "metadata": {
    "execution": {
     "iopub.execute_input": "2022-08-27T22:22:11.147924Z",
     "iopub.status.busy": "2022-08-27T22:22:11.147093Z",
     "iopub.status.idle": "2022-08-27T22:22:11.166308Z",
     "shell.execute_reply": "2022-08-27T22:22:11.164041Z"
    },
    "papermill": {
     "duration": 0.056285,
     "end_time": "2022-08-27T22:22:11.169316",
     "exception": false,
     "start_time": "2022-08-27T22:22:11.113031",
     "status": "completed"
    },
    "tags": []
   },
   "outputs": [
    {
     "name": "stdout",
     "output_type": "stream",
     "text": [
      "                                     SARIMAX Results                                      \n",
      "==========================================================================================\n",
      "Dep. Variable:                                  y   No. Observations:                   34\n",
      "Model:             SARIMAX(0, 2, 1)x(0, 1, 1, 12)   Log Likelihood                -216.048\n",
      "Date:                            Sat, 27 Aug 2022   AIC                            438.095\n",
      "Time:                                    16:40:45   BIC                            441.082\n",
      "Sample:                                01-01-2013   HQIC                           438.678\n",
      "                                     - 10-01-2015                                         \n",
      "Covariance Type:                              opg                                         \n",
      "==============================================================================\n",
      "                 coef    std err          z      P>|z|      [0.025      0.975]\n",
      "------------------------------------------------------------------------------\n",
      "ma.L1         -0.9856      0.298     -3.311      0.001      -1.569      -0.402\n",
      "ma.S.L12      -0.0853      0.168     -0.509      0.611      -0.414       0.244\n",
      "sigma2      2.062e+08   5.95e-10   3.46e+17      0.000    2.06e+08    2.06e+08\n",
      "===================================================================================\n",
      "Ljung-Box (L1) (Q):                   0.75   Jarque-Bera (JB):                 0.89\n",
      "Prob(Q):                              0.39   Prob(JB):                         0.64\n",
      "Heteroskedasticity (H):               0.80   Skew:                             0.24\n",
      "Prob(H) (two-sided):                  0.77   Kurtosis:                         2.09\n",
      "===================================================================================\n",
      "\n",
      "Warnings:\n",
      "[1] Covariance matrix calculated using the outer product of gradients (complex-step).\n",
      "[2] Covariance matrix is singular or near-singular, with condition number 2.13e+34. Standard errors may be unstable.\n"
     ]
    }
   ],
   "source": [
    "print(model.summary())"
   ]
  },
  {
   "cell_type": "code",
   "execution_count": 28,
   "id": "4a031b4c",
   "metadata": {
    "execution": {
     "iopub.execute_input": "2022-08-27T22:22:11.203333Z",
     "iopub.status.busy": "2022-08-27T22:22:11.202485Z",
     "iopub.status.idle": "2022-08-27T22:22:11.220397Z",
     "shell.execute_reply": "2022-08-27T22:22:11.218620Z"
    },
    "papermill": {
     "duration": 0.037821,
     "end_time": "2022-08-27T22:22:11.222918",
     "exception": false,
     "start_time": "2022-08-27T22:22:11.185097",
     "status": "completed"
    },
    "tags": []
   },
   "outputs": [
    {
     "name": "stdout",
     "output_type": "stream",
     "text": [
      "[[ 49454.95 106326.13]\n",
      " [ 84822.5  166627.74]\n",
      " [ 14725.65 116582.4 ]\n",
      " [-22076.08  97438.41]\n",
      " [-34511.53 101209.37]\n",
      " [-50584.33 100364.26]]\n",
      "2015-11-01     77890.54\n",
      "2015-12-01    125725.12\n",
      "2016-01-01     65654.02\n",
      "2016-02-01     37681.17\n",
      "2016-03-01     33348.92\n",
      "2016-04-01     24889.97\n",
      "Freq: MS, dtype: float64\n"
     ]
    }
   ],
   "source": [
    "prediction, confint = model.predict(n_periods = 6, return_conf_int = True) #95% CI default\n",
    "df_confint = pd.DataFrame(confint)\n",
    "print(confint.round(2))\n",
    "print(prediction.round(2))"
   ]
  },
  {
   "cell_type": "code",
   "execution_count": 29,
   "id": "e3653954",
   "metadata": {
    "execution": {
     "iopub.execute_input": "2022-08-27T22:22:11.251562Z",
     "iopub.status.busy": "2022-08-27T22:22:11.250780Z",
     "iopub.status.idle": "2022-08-27T22:22:11.264759Z",
     "shell.execute_reply": "2022-08-27T22:22:11.262697Z"
    },
    "papermill": {
     "duration": 0.031806,
     "end_time": "2022-08-27T22:22:11.267624",
     "exception": false,
     "start_time": "2022-08-27T22:22:11.235818",
     "status": "completed"
    },
    "tags": []
   },
   "outputs": [
    {
     "name": "stdout",
     "output_type": "stream",
     "text": [
      "         Predicted item_cnt_month\n",
      "2015-10                       NaN\n",
      "2015-11                       NaN\n",
      "2015-12                       NaN\n",
      "2016-01                       NaN\n",
      "2016-02                       NaN\n",
      "2016-03                       NaN\n"
     ]
    }
   ],
   "source": [
    "period_index = pd.period_range(start = dff_train.index[-1], periods = 6, freq='M')\n",
    "\n",
    "df_predict = pd.DataFrame({'Predicted item_cnt_month': prediction.round(2)}, index = period_index)\n",
    "#df_predict['month'] = df_predict.index\n",
    "print(df_predict)"
   ]
  },
  {
   "cell_type": "code",
   "execution_count": 31,
   "id": "7296bdb9",
   "metadata": {
    "execution": {
     "iopub.execute_input": "2022-08-27T22:22:11.296611Z",
     "iopub.status.busy": "2022-08-27T22:22:11.296106Z",
     "iopub.status.idle": "2022-08-27T22:22:11.308855Z",
     "shell.execute_reply": "2022-08-27T22:22:11.307607Z"
    },
    "papermill": {
     "duration": 0.03061,
     "end_time": "2022-08-27T22:22:11.311671",
     "exception": false,
     "start_time": "2022-08-27T22:22:11.281061",
     "status": "completed"
    },
    "tags": []
   },
   "outputs": [
    {
     "data": {
      "text/html": [
       "<div>\n",
       "<style scoped>\n",
       "    .dataframe tbody tr th:only-of-type {\n",
       "        vertical-align: middle;\n",
       "    }\n",
       "\n",
       "    .dataframe tbody tr th {\n",
       "        vertical-align: top;\n",
       "    }\n",
       "\n",
       "    .dataframe thead th {\n",
       "        text-align: right;\n",
       "    }\n",
       "</style>\n",
       "<table border=\"1\" class=\"dataframe\">\n",
       "  <thead>\n",
       "    <tr style=\"text-align: right;\">\n",
       "      <th></th>\n",
       "      <th>Predicted item_cnt_month</th>\n",
       "    </tr>\n",
       "  </thead>\n",
       "  <tbody>\n",
       "    <tr>\n",
       "      <th>2015-10</th>\n",
       "      <td>NaN</td>\n",
       "    </tr>\n",
       "    <tr>\n",
       "      <th>2015-11</th>\n",
       "      <td>NaN</td>\n",
       "    </tr>\n",
       "  </tbody>\n",
       "</table>\n",
       "</div>"
      ],
      "text/plain": [
       "         Predicted item_cnt_month\n",
       "2015-10                       NaN\n",
       "2015-11                       NaN"
      ]
     },
     "execution_count": 31,
     "metadata": {},
     "output_type": "execute_result"
    }
   ],
   "source": [
    "#Sales of November 2015\n",
    "\n",
    "df_predict.head(2)"
   ]
  },
  {
   "cell_type": "code",
   "execution_count": 32,
   "id": "d894fd3f",
   "metadata": {
    "execution": {
     "iopub.execute_input": "2022-08-27T22:22:11.342789Z",
     "iopub.status.busy": "2022-08-27T22:22:11.342073Z",
     "iopub.status.idle": "2022-08-27T22:22:11.675626Z",
     "shell.execute_reply": "2022-08-27T22:22:11.674056Z"
    },
    "papermill": {
     "duration": 0.35225,
     "end_time": "2022-08-27T22:22:11.678205",
     "exception": false,
     "start_time": "2022-08-27T22:22:11.325955",
     "status": "completed"
    },
    "tags": []
   },
   "outputs": [
    {
     "data": {
      "image/png": "[encoded data removed]",
      "text/plain": [
       "<Figure size 720x432 with 1 Axes>"
      ]
     },
     "metadata": {
      "needs_background": "light"
     },
     "output_type": "display_data"
    }
   ],
   "source": [
    "plt.figure(figsize = (10, 6))\n",
    "plt.plot(dff_train['item_cnt_month'], label = 'Actuals')\n",
    "plt.plot(df_predict.to_timestamp(), color = 'orange', label = 'Predicted')\n",
    "plt.fill_between(period_index.to_timestamp(), df_confint[0], df_confint[1], color = 'grey', alpha = 0.25, label = 'Confidence Interval')\n",
    "plt.legend(loc = 'lower left')\n",
    "plt.title('Time-series Forecasting (SARIMA)')\n",
    "plt.grid()\n",
    "plt.show()"
   ]
  },
  {
   "cell_type": "code",
   "execution_count": 33,
   "id": "13f8bc26",
   "metadata": {
    "execution": {
     "iopub.execute_input": "2022-08-27T22:22:11.708308Z",
     "iopub.status.busy": "2022-08-27T22:22:11.707890Z",
     "iopub.status.idle": "2022-08-27T22:22:12.426261Z",
     "shell.execute_reply": "2022-08-27T22:22:12.422490Z"
    },
    "papermill": {
     "duration": 0.74251,
     "end_time": "2022-08-27T22:22:12.435906",
     "exception": false,
     "start_time": "2022-08-27T22:22:11.693396",
     "status": "completed"
    },
    "tags": []
   },
   "outputs": [
    {
     "name": "stderr",
     "output_type": "stream",
     "text": [
      "C:\\Users\\hrajput1\\AppData\\Local\\Temp\\ipykernel_2220\\3415957417.py:1: FutureWarning: Indexing with multiple keys (implicitly converted to a tuple of keys) will be deprecated, use a list instead.\n",
      "  train_df_tuple = df_train.groupby(['shop_id', 'item_id'])['date', 'item_cnt_day'].agg({'item_cnt_day':'sum'})\n"
     ]
    },
    {
     "name": "stdout",
     "output_type": "stream",
     "text": [
      "        shop_id  item_id  item_cnt_day\n",
      "0             0       30          31.0\n",
      "1             0       31          11.0\n",
      "2             0       32          16.0\n",
      "3             0       33           6.0\n",
      "4             0       35          15.0\n",
      "...         ...      ...           ...\n",
      "424119       59    22154           1.0\n",
      "424120       59    22155           1.0\n",
      "424121       59    22162          16.0\n",
      "424122       59    22164           6.0\n",
      "424123       59    22167           4.0\n",
      "\n",
      "[424124 rows x 3 columns]\n"
     ]
    }
   ],
   "source": [
    "train_df_tuple = df_train.groupby(['shop_id', 'item_id'])['date', 'item_cnt_day'].agg({'item_cnt_day':'sum'})\n",
    "train_df_tuple = train_df_tuple.reset_index()\n",
    "print(train_df_tuple)"
   ]
  },
  {
   "cell_type": "code",
   "execution_count": 34,
   "id": "adea45df",
   "metadata": {
    "execution": {
     "iopub.execute_input": "2022-08-27T22:22:12.476446Z",
     "iopub.status.busy": "2022-08-27T22:22:12.475949Z",
     "iopub.status.idle": "2022-08-27T22:22:12.494695Z",
     "shell.execute_reply": "2022-08-27T22:22:12.493034Z"
    },
    "papermill": {
     "duration": 0.038376,
     "end_time": "2022-08-27T22:22:12.498036",
     "exception": false,
     "start_time": "2022-08-27T22:22:12.459660",
     "status": "completed"
    },
    "tags": []
   },
   "outputs": [
    {
     "name": "stdout",
     "output_type": "stream",
     "text": [
      "            ID  item_cnt_month\n",
      "0            0         0.18365\n",
      "1            1         0.18365\n",
      "2            2         0.18365\n",
      "3            3         0.18365\n",
      "4            4         0.18365\n",
      "...        ...             ...\n",
      "214195  214195         0.18365\n",
      "214196  214196         0.18365\n",
      "214197  214197         0.18365\n",
      "214198  214198         0.18365\n",
      "214199  214199         0.18365\n",
      "\n",
      "[214200 rows x 2 columns]\n"
     ]
    }
   ],
   "source": [
    "df_test['item_cnt_month'] = (prediction[0].round(2)*len(df_test)/len(train_df_tuple))/len(df_test)\n",
    "#df_test['item_cnt_month'] = prediction[0]*len(df_test)/len(train_df_tuple)\n",
    "submission  = df_test.drop(['shop_id', 'item_id'], axis = 1)\n",
    "print(submission)"
   ]
  },
  {
   "cell_type": "code",
   "execution_count": 35,
   "id": "77c2374e",
   "metadata": {
    "execution": {
     "iopub.execute_input": "2022-08-27T22:22:12.531405Z",
     "iopub.status.busy": "2022-08-27T22:22:12.531026Z",
     "iopub.status.idle": "2022-08-27T22:22:13.210837Z",
     "shell.execute_reply": "2022-08-27T22:22:13.209707Z"
    },
    "papermill": {
     "duration": 0.70065,
     "end_time": "2022-08-27T22:22:13.214084",
     "exception": false,
     "start_time": "2022-08-27T22:22:12.513434",
     "status": "completed"
    },
    "tags": []
   },
   "outputs": [],
   "source": [
    "submission.to_csv('submission.csv', index = False)"
   ]
  }
 ],
 "metadata": {
  "kernelspec": {
   "display_name": "Python 3 (ipykernel)",
   "language": "python",
   "name": "python3"
  },
  "language_info": {
   "codemirror_mode": {
    "name": "ipython",
    "version": 3
   },
   "file_extension": ".py",
   "mimetype": "text/x-python",
   "name": "python",
   "nbconvert_exporter": "python",
   "pygments_lexer": "ipython3",
   "version": "3.9.12"
  },
  "papermill": {
   "default_parameters": {},
   "duration": 84.830225,
   "end_time": "2022-08-27T22:22:14.265879",
   "environment_variables": {},
   "exception": null,
   "input_path": "__notebook__.ipynb",
   "output_path": "__notebook__.ipynb",
   "parameters": {},
   "start_time": "2022-08-27T22:20:49.435654",
   "version": "2.3.4"
  }
 },
 "nbformat": 4,
 "nbformat_minor": 5
}
